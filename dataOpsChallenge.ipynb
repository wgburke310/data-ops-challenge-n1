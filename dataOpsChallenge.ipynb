{
 "cells": [
  {
   "cell_type": "markdown",
   "metadata": {},
   "source": [
    "### Data Ops Challenge -  William Burke"
   ]
  },
  {
   "cell_type": "code",
   "execution_count": 1,
   "metadata": {},
   "outputs": [],
   "source": [
    "# Importing libraries I might use\n",
    "import pandas as pd\n",
    "import numpy as np\n",
    "import sqlite3"
   ]
  },
  {
   "cell_type": "markdown",
   "metadata": {},
   "source": [
    "### Establishing and Exploring DB"
   ]
  },
  {
   "cell_type": "code",
   "execution_count": 2,
   "metadata": {},
   "outputs": [],
   "source": [
    "# Connecting to the db\n",
    "connection = sqlite3.connect(\"interview.db\")\n",
    "cursor = connection.cursor()"
   ]
  },
  {
   "cell_type": "code",
   "execution_count": 3,
   "metadata": {},
   "outputs": [
    {
     "name": "stdout",
     "output_type": "stream",
     "text": [
      "Changes: 0\n",
      "Table names: [('model_scores_by_zip',), ('roster_1',), ('roster_2',), ('roster_3',), ('roster_4',), ('roster_5',), ('std_member_info',)]\n"
     ]
    }
   ],
   "source": [
    "# Verify connection object (should print 0)\n",
    "print(\"Changes:\", connection.total_changes)\n",
    "\n",
    "# Getting the names of tables\n",
    "query = \"SELECT name FROM sqlite_master WHERE type='table';\"\n",
    "cursor.execute(query)\n",
    "tableNames = cursor.fetchall()\n",
    "print(\"Table names:\", tableNames)"
   ]
  },
  {
   "cell_type": "code",
   "execution_count": 4,
   "metadata": {},
   "outputs": [
    {
     "name": "stdout",
     "output_type": "stream",
     "text": [
      "***********\n",
      "Printing info about table: model_scores_by_zip\n",
      "# Records (1760,)\n",
      "Column names: ['zcta', 'state_code', 'state name', 'neighborhood_stress_score', 'algorex_sdoh_composite_score', 'social_isolation_score', 'transportation_access_score', 'food_access_score', 'unstable_housing_score', 'state_govt_assistance', 'homeless_indicator', 'derived_indicator']\n",
      "First record: (94720, 6.0, 'California', -0.31, 6.19, 2.37, 3.89, 3.06, 2.03, 0.59, 10.0, 1)\n",
      "***********\n",
      "Printing info about table: roster_1\n",
      "# Records (23659,)\n",
      "Column names: ['Person_Id', 'First_Name', 'Last_Name', 'Dob', 'Age', 'Gender', 'Street_Address', 'State', 'City', 'Zip', 'eligibility_start_date', 'eligibility_end_date', 'payer']\n",
      "First record: ('15340001', 'Daniel', 'Smith', '2017-04-27', '5', 'Male', '1505 Alvarez Spur Suite 902', 'California', 'Lake Sharonburgh', '93546', '2021-08-01', '2021-11-01', 'Madv')\n",
      "***********\n",
      "Printing info about table: roster_2\n",
      "# Records (23392,)\n",
      "Column names: ['Person_Id', 'First_Name', 'Last_Name', 'Dob', 'Age', 'Gender', 'Street_Address', 'State', 'City', 'Zip', 'eligibility_start_date', 'eligibility_end_date', 'payer']\n",
      "First record: ('15340005', 'Maritza', 'Castellana', '02/09/1979', '43', 'Female', '4097 Johnny Road', 'California', 'East Carolyntown', '93206', '10/01/2021', '02/01/2023', 'Madv')\n",
      "***********\n",
      "Printing info about table: roster_3\n",
      "# Records (34951,)\n",
      "Column names: ['Person_Id', 'First_Name', 'Last_Name', 'Dob', 'Age', 'Gender', 'Street_Address', 'State', 'City', 'Zip', 'eligibility_start_date', 'eligibility_end_date', 'payer']\n",
      "First record: ('15340053', 'Nathaniel', 'Sharkey', '1925-01-26', '97', 'Male', '92776 Charles Lights Suite 296', 'California', 'East Veronica', '95461', '2021-12-01', '2022-01-01', 'Mdcd')\n",
      "***********\n",
      "Printing info about table: roster_4\n",
      "# Records (22900,)\n",
      "Column names: ['Person_Id', 'First_Name', 'Last_Name', 'Dob', 'Age', 'Gender', 'Street_Address', 'State', 'City', 'Zip', 'eligibility_start_date', 'eligibility_end_date', 'payer']\n",
      "First record: ('15340034', 'Amber', 'Smith', '2000-02-01', '22', 'Female', '404 Gardner Pike Suite 348', 'CA', 'North Jefferyport', '95620', '2022-02-01', '2022-06-01', 'Mdcd')\n",
      "***********\n",
      "Printing info about table: roster_5\n",
      "# Records (37403,)\n",
      "Column names: ['Person_Id', 'First_Name', 'Last_Name', 'Gender', 'Dob', 'Age', 'Street_Address', 'State', 'City', 'Zip', 'payer', 'eligibility_start_date', 'eligibility_end_date']\n",
      "First record: ('15340012', 'Billy', 'Pacifico', 'Male', '1989-04-03', '33', '6176 Nicholas Turnpike Apt. 850', 'California', 'West Dorothyburgh', '90047', 'Mdcd', '2022-04-01', '2026-03-01')\n",
      "***********\n",
      "Printing info about table: std_member_info\n",
      "# Records (99807,)\n",
      "Column names: ['Person_Id', 'First_Name', 'Last_Name', 'Dob', 'Age', 'Gender', 'Street_Address', 'State', 'City', 'Zip', 'payer']\n",
      "First record: ('15340003', 'Todd', 'Morelli', '1993-06-29', '29', 'Male', '4070 Aguilar Forge Suite 788', 'California', 'South Melissaton', '92105', 'Madv')\n"
     ]
    }
   ],
   "source": [
    "# Getting some summary info for all tables\n",
    "for table in tableNames:\n",
    "    table = table[0]\n",
    "    print(\"***********\\nPrinting info about table:\", table)\n",
    "    \n",
    "    # Getting number of records\n",
    "    query = \"SELECT COUNT(*) FROM \" + table\n",
    "    result = cursor.execute(query)\n",
    "    print(\"# Records\",result.fetchone())\n",
    "\n",
    "    # Getting attribute names and first record\n",
    "    query = \"SELECT * FROM \" + table + \" LIMIT 1\"\n",
    "    result = cursor.execute(query)\n",
    "    print(\"Column names:\", list(map(lambda x: x[0], result.description)))\n",
    "    print(\"First record:\", result.fetchone())"
   ]
  },
  {
   "cell_type": "code",
   "execution_count": 5,
   "metadata": {},
   "outputs": [],
   "source": [
    "# Inconsistencies:\n",
    "# Dob is formatted differently in roster_2: NEED to fix\n",
    "# State is abbreviated in roster_4: DOES NOT affect anything... state is not a FK and doesn't need to be queried in this challenge.\n",
    "# There are also quite a few inconsistencies with the order of attributes: This matters when doing UNION of tables"
   ]
  },
  {
   "cell_type": "code",
   "execution_count": 6,
   "metadata": {},
   "outputs": [
    {
     "name": "stdout",
     "output_type": "stream",
     "text": [
      "('15340006', 'Todd', 'Austin', '1934-01-06', '88', 'Male', '4731 Howe Ridge', 'California', 'New Rachel', '95451', '2021-08-01', '2023-08-01', 'Madv')\n",
      "('15343508', 'Willie', 'Steele', '12/31/1939', '82', 'Male', '2058 Johnson Shoals', 'California', 'Mitchellton', '94503', '10/01/2021', '11/01/2024', 'Mdcd')\n"
     ]
    }
   ],
   "source": [
    "# ***** Looking into dates *****\n",
    "# Checking date stuff for roster_1\n",
    "query = \"SELECT * FROM roster_1 WHERE eligibility_start_date <= '2022-04-31' AND eligibility_end_date >= '2022-04-01' \"\n",
    "result = cursor.execute(query)\n",
    "print(result.fetchone())\n",
    "\n",
    "# Checking date stuff for roster_2\n",
    "query = \"SELECT * FROM roster_2 WHERE Dob >= '12/31/1930' \"\n",
    "result = cursor.execute(query)\n",
    "print(result.fetchone())\n",
    "# Conclusion: The dates in roster_2 need to be fixed"
   ]
  },
  {
   "cell_type": "markdown",
   "metadata": {},
   "source": [
    "### Cleaning Inconsistent Fields Before Combining"
   ]
  },
  {
   "cell_type": "code",
   "execution_count": 7,
   "metadata": {},
   "outputs": [],
   "source": [
    "# Function used to correct dates for Dob and eligibility dates in roster_2\n",
    "def correct_date_format(dateString):\n",
    "    numbers = dateString.split(\"/\")\n",
    "    # Changing to correct format yyyy-mm-dd\n",
    "    correct_date = numbers[2] + '-' + numbers[0] + '-' + numbers[1]\n",
    "    return correct_date"
   ]
  },
  {
   "cell_type": "code",
   "execution_count": 8,
   "metadata": {},
   "outputs": [],
   "source": [
    "# It is confirmed that the mm/dd/yyyy format of dates doesn't work so I need to do some string manipulation\n",
    "# Making changes to roster_2 using pandas:\n",
    "df_roster_2 = pd.read_sql_query('select * from roster_2', connection)\n",
    "df_roster_2['Dob'] = df_roster_2['Dob'].apply(lambda date: correct_date_format(date))\n",
    "df_roster_2['eligibility_start_date'] = df_roster_2['eligibility_start_date'].apply(lambda date: correct_date_format(date))\n",
    "df_roster_2['eligibility_end_date'] = df_roster_2['eligibility_end_date'].apply(lambda date: correct_date_format(date))\n",
    "df_roster_2.head()\n",
    "\n",
    "# Write altered dataframe to SQLite database\n",
    "cursor.execute(\"DROP TABLE IF EXISTS roster_2_fixed\")\n",
    "df_roster_2.to_sql(\"roster_2_fixed\", connection, if_exists=\"replace\", index=False)\n",
    "# NOTE: roster_2 table is locked so I have to basically rename it and stored the fixed table as a new one"
   ]
  },
  {
   "cell_type": "code",
   "execution_count": 9,
   "metadata": {},
   "outputs": [
    {
     "name": "stdout",
     "output_type": "stream",
     "text": [
      "('15340005', 'Maritza', 'Castellana', '1979-02-09', '43', 'Female', '4097 Johnny Road', 'California', 'East Carolyntown', '93206', '2021-10-01', '2023-02-01', 'Madv')\n"
     ]
    }
   ],
   "source": [
    "# Trying a query from earlier to see if the dates work now\n",
    "query = \"SELECT * FROM roster_2_fixed WHERE eligibility_start_date <= '2022-04-31' AND eligibility_end_date >= '2022-04-01'\"\n",
    "result = cursor.execute(query)\n",
    "print(result.fetchone())\n",
    "# It works!"
   ]
  },
  {
   "cell_type": "markdown",
   "metadata": {},
   "source": [
    "### Combining Tables"
   ]
  },
  {
   "cell_type": "code",
   "execution_count": 10,
   "metadata": {},
   "outputs": [],
   "source": [
    "# Creating table called \"std_member_info\" (takes a second)\n",
    "cursor.execute(\"DROP TABLE IF EXISTS std_member_info\")\n",
    "\n",
    "# Ordering columns for EACH table because UNION considers column order, NOT column name\n",
    "colNames = \"Person_Id, First_Name, Last_Name, Dob, Age, Gender, Street_Address, State, City, Zip, eligibility_start_date, eligibility_end_date, payer\"\n",
    "r1_str = \"SELECT \" + colNames + \" FROM roster_1\"\n",
    "r2_str = \"SELECT \" + colNames + \" FROM roster_2_fixed\"\n",
    "r3_str = \"SELECT \" + colNames + \" FROM roster_3\"\n",
    "r4_str = \"SELECT \" + colNames + \" FROM roster_4\"\n",
    "r5_str = \"SELECT \" + colNames + \" FROM roster_5\"\n",
    "\n",
    "# Executing query\n",
    "query = \"CREATE TABLE std_member_info AS \" + r1_str + \" UNION \" + r2_str + \" UNION \" + r3_str + \" UNION \" + r4_str + \" UNION \" + r5_str\n",
    "result = cursor.execute(query)\n",
    "\n",
    "# Note 1: Logically, this could be done more efficiently by filtering BEFORE joining, but I'll keep it before filtering and dropping the columns for simplicity's sake\n",
    "# Note 2: If the challenge didn't specify to 'create' a table I would have looked into creating a view so that the same data isn't stored again when creating the aggregate table"
   ]
  },
  {
   "cell_type": "code",
   "execution_count": 11,
   "metadata": {},
   "outputs": [
    {
     "name": "stdout",
     "output_type": "stream",
     "text": [
      "Num records in aggregated roster: 128530\n",
      "Column names: ['Person_Id', 'First_Name', 'Last_Name', 'Dob', 'Age', 'Gender', 'Street_Address', 'State', 'City', 'Zip', 'eligibility_start_date', 'eligibility_end_date', 'payer']\n",
      "First record: ('15340001', 'Daniel', 'Smith', '2017-04-27', '5', 'Male', '1505 Alvarez Spur Suite 902', 'California', 'Lake Sharonburgh', '93546', '2021-08-01', '2021-11-01', 'Madv')\n"
     ]
    }
   ],
   "source": [
    "# Verifying we have the right number of rows\n",
    "query = \"SELECT COUNT(*) FROM std_member_info\"\n",
    "result = cursor.execute(query)\n",
    "print(\"Num records in aggregated roster:\", result.fetchone()[0])\n",
    "\n",
    "# Getting attribute names and first record\n",
    "query = \"SELECT * FROM std_member_info LIMIT 1\"\n",
    "result = cursor.execute(query)\n",
    "print(\"Column names:\", list(map(lambda x: x[0], result.description)))\n",
    "print(\"First record:\", result.fetchone())"
   ]
  },
  {
   "cell_type": "markdown",
   "metadata": {},
   "source": [
    "### Summary Statistics for std_member_info"
   ]
  },
  {
   "cell_type": "code",
   "execution_count": 12,
   "metadata": {},
   "outputs": [],
   "source": [
    "# Using pandas to easily get and print summary statistics\n",
    "df = pd.read_sql_query('select * from std_member_info', connection)"
   ]
  },
  {
   "cell_type": "code",
   "execution_count": 13,
   "metadata": {},
   "outputs": [
    {
     "name": "stdout",
     "output_type": "stream",
     "text": [
      "<class 'pandas.core.frame.DataFrame'>\n",
      "RangeIndex: 128530 entries, 0 to 128529\n",
      "Data columns (total 13 columns):\n",
      " #   Column                  Non-Null Count   Dtype \n",
      "---  ------                  --------------   ----- \n",
      " 0   Person_Id               128530 non-null  object\n",
      " 1   First_Name              128530 non-null  object\n",
      " 2   Last_Name               128530 non-null  object\n",
      " 3   Dob                     128530 non-null  object\n",
      " 4   Age                     128530 non-null  object\n",
      " 5   Gender                  128530 non-null  object\n",
      " 6   Street_Address          128530 non-null  object\n",
      " 7   State                   128530 non-null  object\n",
      " 8   City                    128530 non-null  object\n",
      " 9   Zip                     128530 non-null  object\n",
      " 10  eligibility_start_date  128530 non-null  object\n",
      " 11  eligibility_end_date    128530 non-null  object\n",
      " 12  payer                   128530 non-null  object\n",
      "dtypes: object(13)\n",
      "memory usage: 12.7+ MB\n"
     ]
    }
   ],
   "source": [
    "# How many null values in the dataset?\n",
    "# None :D\n",
    "df.info()"
   ]
  },
  {
   "cell_type": "code",
   "execution_count": 14,
   "metadata": {},
   "outputs": [
    {
     "name": "stdout",
     "output_type": "stream",
     "text": [
      "Person_Id                                  15539997\n",
      "First_Name                                    Zulma\n",
      "Last_Name                                    Zywiec\n",
      "Dob                                      2022-06-23\n",
      "Age                                              99\n",
      "Gender                                         Male\n",
      "Street_Address            99995 Joan Lakes Apt. 665\n",
      "State                                    California\n",
      "City                                    Zunigaville\n",
      "Zip                                           96161\n",
      "eligibility_start_date                   2022-05-01\n",
      "eligibility_end_date                     2026-06-01\n",
      "payer                                          Mdcd\n",
      "dtype: object \n",
      "\n",
      " Person_Id                           15340001\n",
      "First_Name                             Aaron\n",
      "Last_Name                             Aaberg\n",
      "Dob                               1922-06-25\n",
      "Age                                        0\n",
      "Gender                                Female\n",
      "Street_Address            000 Aaron Mountain\n",
      "State                                     CA\n",
      "City                               Aaronberg\n",
      "Zip                                    90001\n",
      "eligibility_start_date            2021-08-01\n",
      "eligibility_end_date              2021-09-01\n",
      "payer                                   Madv\n",
      "dtype: object\n"
     ]
    }
   ],
   "source": [
    "# Looking at min and max values to see if we have any outliers\n",
    "print(df.max(), '\\n\\n',df.min())"
   ]
  },
  {
   "cell_type": "code",
   "execution_count": 15,
   "metadata": {},
   "outputs": [
    {
     "name": "stdout",
     "output_type": "stream",
     "text": [
      "['Male' 'Female']\n"
     ]
    }
   ],
   "source": [
    "# Are there inconsistencies in Gender field?\n",
    "print(df.Gender.unique())"
   ]
  },
  {
   "cell_type": "code",
   "execution_count": 16,
   "metadata": {},
   "outputs": [
    {
     "name": "stdout",
     "output_type": "stream",
     "text": [
      "['Madv' 'Mdcd']\n"
     ]
    }
   ],
   "source": [
    "# Are there inconsistencies in the payer field?\n",
    "print(df.payer.unique())"
   ]
  },
  {
   "cell_type": "markdown",
   "metadata": {},
   "source": [
    "### Summary Statistics for model_scores_by_zip"
   ]
  },
  {
   "cell_type": "code",
   "execution_count": 17,
   "metadata": {},
   "outputs": [],
   "source": [
    "# Using pandas to easily get and print summary statistics\n",
    "df = pd.read_sql_query('select * from model_scores_by_zip', connection)"
   ]
  },
  {
   "cell_type": "code",
   "execution_count": 18,
   "metadata": {},
   "outputs": [
    {
     "name": "stdout",
     "output_type": "stream",
     "text": [
      "<class 'pandas.core.frame.DataFrame'>\n",
      "RangeIndex: 1760 entries, 0 to 1759\n",
      "Data columns (total 12 columns):\n",
      " #   Column                        Non-Null Count  Dtype  \n",
      "---  ------                        --------------  -----  \n",
      " 0   zcta                          1760 non-null   int64  \n",
      " 1   state_code                    1760 non-null   float64\n",
      " 2   state name                    1760 non-null   object \n",
      " 3   neighborhood_stress_score     1760 non-null   float64\n",
      " 4   algorex_sdoh_composite_score  1760 non-null   float64\n",
      " 5   social_isolation_score        1760 non-null   float64\n",
      " 6   transportation_access_score   1760 non-null   float64\n",
      " 7   food_access_score             1760 non-null   float64\n",
      " 8   unstable_housing_score        1760 non-null   float64\n",
      " 9   state_govt_assistance         1760 non-null   float64\n",
      " 10  homeless_indicator            1760 non-null   float64\n",
      " 11  derived_indicator             1760 non-null   int64  \n",
      "dtypes: float64(9), int64(2), object(1)\n",
      "memory usage: 165.1+ KB\n"
     ]
    }
   ],
   "source": [
    "# How many null values in the dataset?\n",
    "df.info()"
   ]
  },
  {
   "cell_type": "code",
   "execution_count": 19,
   "metadata": {},
   "outputs": [
    {
     "name": "stdout",
     "output_type": "stream",
     "text": [
      "zcta                                 96161\n",
      "state_code                               6\n",
      "state name                      California\n",
      "neighborhood_stress_score             6.12\n",
      "algorex_sdoh_composite_score          8.77\n",
      "social_isolation_score                8.33\n",
      "transportation_access_score           8.75\n",
      "food_access_score                      6.9\n",
      "unstable_housing_score                7.88\n",
      "state_govt_assistance                  7.5\n",
      "homeless_indicator                      10\n",
      "derived_indicator                        1\n",
      "dtype: object \n",
      "\n",
      " zcta                                 90001\n",
      "state_code                               6\n",
      "state name                      California\n",
      "neighborhood_stress_score            -1.41\n",
      "algorex_sdoh_composite_score           4.3\n",
      "social_isolation_score                   0\n",
      "transportation_access_score           2.71\n",
      "food_access_score                     0.28\n",
      "unstable_housing_score                 0.2\n",
      "state_govt_assistance                    0\n",
      "homeless_indicator                       2\n",
      "derived_indicator                        0\n",
      "dtype: object\n"
     ]
    }
   ],
   "source": [
    "# Looking at min and max values to see if we have any outliers\n",
    "print(df.max(), '\\n\\n', df.min())"
   ]
  },
  {
   "cell_type": "markdown",
   "metadata": {},
   "source": [
    "### Additional Data Cleaning"
   ]
  },
  {
   "cell_type": "code",
   "execution_count": 20,
   "metadata": {},
   "outputs": [
    {
     "name": "stdout",
     "output_type": "stream",
     "text": [
      "10845 members were included more than once.\n"
     ]
    }
   ],
   "source": [
    "# Aggregating by Person_Id - How many members were included more than once?\n",
    "query = \"SELECT Person_Id, COUNT(Person_Id) as num_duplicates FROM std_member_info GROUP BY Person_Id HAVING num_duplicates > 1\"\n",
    "result = cursor.execute(query)\n",
    "print(len(result.fetchall()), \"members were included more than once.\")"
   ]
  },
  {
   "cell_type": "code",
   "execution_count": 21,
   "metadata": {},
   "outputs": [
    {
     "data": {
      "text/plain": [
       "<sqlite3.Cursor at 0x230d258ddc0>"
      ]
     },
     "execution_count": 21,
     "metadata": {},
     "output_type": "execute_result"
    }
   ],
   "source": [
    "# Removing unique values\n",
    "query = \"DELETE FROM std_member_info WHERE rowid NOT IN (SELECT MIN(rowid) FROM std_member_info GROUP BY Person_Id)\"\n",
    "cursor.execute(query)"
   ]
  },
  {
   "cell_type": "code",
   "execution_count": 22,
   "metadata": {},
   "outputs": [
    {
     "name": "stdout",
     "output_type": "stream",
     "text": [
      "0 members were included more than once.\n"
     ]
    }
   ],
   "source": [
    "# This same query should now give 0\n",
    "query = \"SELECT Person_Id, COUNT(Person_Id) as num_duplicates FROM std_member_info GROUP BY Person_Id HAVING num_duplicates > 1\"\n",
    "result = cursor.execute(query)\n",
    "print(len(result.fetchall()), \"members were included more than once.\")"
   ]
  },
  {
   "cell_type": "code",
   "execution_count": 23,
   "metadata": {},
   "outputs": [
    {
     "name": "stdout",
     "output_type": "stream",
     "text": [
      "10845\n"
     ]
    }
   ],
   "source": [
    "# Verifying the correct number of entries are left over.\n",
    "# Before we had 128530 entries\n",
    "query = \"SELECT COUNT(*) FROM std_member_info\"\n",
    "result = cursor.execute(query)\n",
    "new_num = result.fetchone()[0]\n",
    "# Now we have 117685\n",
    "print(128530-new_num)"
   ]
  },
  {
   "cell_type": "code",
   "execution_count": 24,
   "metadata": {},
   "outputs": [
    {
     "name": "stdout",
     "output_type": "stream",
     "text": [
      "# of distinct members eligible in April 2022: 99807\n"
     ]
    }
   ],
   "source": [
    "# How many distinct members are eligible in April 2022?\n",
    "# ASSUMPTION: I'm assuming \"Eligible in April 2022\" means eligible at ANY point in that month, not necessarily for the whole duration\n",
    "# Ex: Eligible from 2022-04-01 to 2022-04-02 is 'eligible in April 2022'\n",
    "query = \"SELECT COUNT(*) FROM std_member_info WHERE eligibility_start_date <= '2022-04-31' AND eligibility_end_date >= '2022-04-01'\"\n",
    "result = cursor.execute(query)\n",
    "print(\"# of distinct members eligible in April 2022:\", result.fetchone()[0])"
   ]
  },
  {
   "cell_type": "code",
   "execution_count": 25,
   "metadata": {},
   "outputs": [
    {
     "name": "stdout",
     "output_type": "stream",
     "text": [
      "(99807,)\n"
     ]
    }
   ],
   "source": [
    "# Dropping members that are not eligible in April 2022\n",
    "query = \"DELETE FROM std_member_info WHERE Person_Id NOT IN (SELECT Person_Id FROM std_member_info WHERE eligibility_start_date <= '2022-04-31' AND eligibility_end_date >= '2022-04-01')\"\n",
    "cursor.execute(query)\n",
    "\n",
    "# Confirming that there are the correct # of records\n",
    "query = \"SELECT COUNT(*) FROM std_member_info\"\n",
    "result = cursor.execute(query)\n",
    "print(result.fetchone())"
   ]
  },
  {
   "cell_type": "code",
   "execution_count": 26,
   "metadata": {},
   "outputs": [],
   "source": [
    "# Now we can drop the two eligibility columns (as instructed by challenge)\n",
    "# SQLite doesn't support ALTER TABLE [] DROP, so I'm going to just drop them using pandas\n",
    "df = pd.read_sql_query('select Person_Id, First_Name, Last_Name, Dob, Age, Gender, Street_Address, State, City, Zip, payer from std_member_info', connection)\n",
    "query = \"DROP TABLE std_member_info\"\n",
    "cursor.execute(query)\n",
    "df.to_sql(\"std_member_info\", connection, if_exists=\"replace\", index=False)"
   ]
  },
  {
   "cell_type": "code",
   "execution_count": 27,
   "metadata": {},
   "outputs": [
    {
     "data": {
      "text/html": [
       "<div>\n",
       "<style scoped>\n",
       "    .dataframe tbody tr th:only-of-type {\n",
       "        vertical-align: middle;\n",
       "    }\n",
       "\n",
       "    .dataframe tbody tr th {\n",
       "        vertical-align: top;\n",
       "    }\n",
       "\n",
       "    .dataframe thead th {\n",
       "        text-align: right;\n",
       "    }\n",
       "</style>\n",
       "<table border=\"1\" class=\"dataframe\">\n",
       "  <thead>\n",
       "    <tr style=\"text-align: right;\">\n",
       "      <th></th>\n",
       "      <th>Person_Id</th>\n",
       "      <th>First_Name</th>\n",
       "      <th>Last_Name</th>\n",
       "      <th>Dob</th>\n",
       "      <th>Age</th>\n",
       "      <th>Gender</th>\n",
       "      <th>Street_Address</th>\n",
       "      <th>State</th>\n",
       "      <th>City</th>\n",
       "      <th>Zip</th>\n",
       "      <th>payer</th>\n",
       "    </tr>\n",
       "  </thead>\n",
       "  <tbody>\n",
       "    <tr>\n",
       "      <th>0</th>\n",
       "      <td>15340003</td>\n",
       "      <td>Todd</td>\n",
       "      <td>Morelli</td>\n",
       "      <td>1993-06-29</td>\n",
       "      <td>29</td>\n",
       "      <td>Male</td>\n",
       "      <td>4070 Aguilar Forge Suite 788</td>\n",
       "      <td>California</td>\n",
       "      <td>South Melissaton</td>\n",
       "      <td>92105</td>\n",
       "      <td>Madv</td>\n",
       "    </tr>\n",
       "    <tr>\n",
       "      <th>1</th>\n",
       "      <td>15340005</td>\n",
       "      <td>Maritza</td>\n",
       "      <td>Castellana</td>\n",
       "      <td>1979-02-09</td>\n",
       "      <td>43</td>\n",
       "      <td>Female</td>\n",
       "      <td>4097 Johnny Road</td>\n",
       "      <td>California</td>\n",
       "      <td>East Carolyntown</td>\n",
       "      <td>93206</td>\n",
       "      <td>Madv</td>\n",
       "    </tr>\n",
       "    <tr>\n",
       "      <th>2</th>\n",
       "      <td>15340006</td>\n",
       "      <td>Todd</td>\n",
       "      <td>Austin</td>\n",
       "      <td>1934-01-06</td>\n",
       "      <td>88</td>\n",
       "      <td>Male</td>\n",
       "      <td>4731 Howe Ridge</td>\n",
       "      <td>California</td>\n",
       "      <td>New Rachel</td>\n",
       "      <td>95451</td>\n",
       "      <td>Madv</td>\n",
       "    </tr>\n",
       "    <tr>\n",
       "      <th>3</th>\n",
       "      <td>15340009</td>\n",
       "      <td>Florence</td>\n",
       "      <td>Kirk</td>\n",
       "      <td>2016-05-06</td>\n",
       "      <td>6</td>\n",
       "      <td>Female</td>\n",
       "      <td>31252 Wade Inlet</td>\n",
       "      <td>California</td>\n",
       "      <td>North Toddborough</td>\n",
       "      <td>93616</td>\n",
       "      <td>Mdcd</td>\n",
       "    </tr>\n",
       "    <tr>\n",
       "      <th>4</th>\n",
       "      <td>15340010</td>\n",
       "      <td>Jimmy</td>\n",
       "      <td>Clark</td>\n",
       "      <td>1926-07-16</td>\n",
       "      <td>96</td>\n",
       "      <td>Male</td>\n",
       "      <td>9763 Cynthia Vista Suite 910</td>\n",
       "      <td>California</td>\n",
       "      <td>Lake Morgan</td>\n",
       "      <td>96096</td>\n",
       "      <td>Mdcd</td>\n",
       "    </tr>\n",
       "  </tbody>\n",
       "</table>\n",
       "</div>"
      ],
      "text/plain": [
       "  Person_Id First_Name   Last_Name         Dob Age  Gender  \\\n",
       "0  15340003       Todd     Morelli  1993-06-29  29    Male   \n",
       "1  15340005    Maritza  Castellana  1979-02-09  43  Female   \n",
       "2  15340006       Todd      Austin  1934-01-06  88    Male   \n",
       "3  15340009   Florence        Kirk  2016-05-06   6  Female   \n",
       "4  15340010      Jimmy       Clark  1926-07-16  96    Male   \n",
       "\n",
       "                 Street_Address       State               City    Zip payer  \n",
       "0  4070 Aguilar Forge Suite 788  California   South Melissaton  92105  Madv  \n",
       "1              4097 Johnny Road  California   East Carolyntown  93206  Madv  \n",
       "2               4731 Howe Ridge  California         New Rachel  95451  Madv  \n",
       "3              31252 Wade Inlet  California  North Toddborough  93616  Mdcd  \n",
       "4  9763 Cynthia Vista Suite 910  California        Lake Morgan  96096  Mdcd  "
      ]
     },
     "execution_count": 27,
     "metadata": {},
     "output_type": "execute_result"
    }
   ],
   "source": [
    "# Using pandas (again) to confirm that the updated std_member_info attributes are stored in the DB\n",
    "df = pd.read_sql_query('select * from std_member_info', connection)\n",
    "df.head()"
   ]
  },
  {
   "cell_type": "markdown",
   "metadata": {},
   "source": [
    "### Answering Questions (post-cleaning)"
   ]
  },
  {
   "cell_type": "code",
   "execution_count": 28,
   "metadata": {},
   "outputs": [
    {
     "name": "stdout",
     "output_type": "stream",
     "text": [
      "[('Madv', 49.90003212679375, 37352), ('Mdcd', 49.89751020734929, 62455)]\n"
     ]
    }
   ],
   "source": [
    "# What is the breakdown of members by payer?\n",
    "query = \"SELECT payer, AVG(age) as avg_age, COUNT(*) as num_members FROM std_member_info GROUP BY payer\"\n",
    "result = cursor.execute(query)\n",
    "print(result.fetchall())\n",
    "# Madv has 37352 members with an average age of ~50 years, and Mdcd has 62455 members, also with an average age of ~50 years."
   ]
  },
  {
   "cell_type": "code",
   "execution_count": 29,
   "metadata": {},
   "outputs": [
    {
     "name": "stdout",
     "output_type": "stream",
     "text": [
      "[(7685,)]\n"
     ]
    }
   ],
   "source": [
    "# How many members live in a zip code with a food_access_score lower than 2?\n",
    "query = \"SELECT COUNT(*) FROM std_member_info m JOIN model_scores_by_zip z ON m.Zip = z.zcta WHERE food_access_score < 2\"\n",
    "result = cursor.execute(query)\n",
    "print(result.fetchall())\n",
    "# There are 7,685 members in a zip code with a food_access_score lower than 2"
   ]
  },
  {
   "cell_type": "code",
   "execution_count": 30,
   "metadata": {},
   "outputs": [
    {
     "name": "stdout",
     "output_type": "stream",
     "text": [
      "[(3.068896570380987,)]\n"
     ]
    }
   ],
   "source": [
    "# What is the average social isolation score for the members?\n",
    "query = \"SELECT AVG(social_isolation_score) FROM std_member_info m JOIN model_scores_by_zip z ON m.Zip = z.zcta\"\n",
    "result = cursor.execute(query)\n",
    "print(result.fetchall())\n",
    "# The average social isolation score is 3.07"
   ]
  },
  {
   "cell_type": "code",
   "execution_count": 31,
   "metadata": {},
   "outputs": [
    {
     "name": "stdout",
     "output_type": "stream",
     "text": [
      "Highest zip: (95950,)\n",
      "List of members: ['15340102', '15346807', '15348534', '15355184', '15359217', '15363143', '15370952', '15375855', '15377622', '15377751', '15383576', '15387928', '15389381', '15389759', '15403845', '15404143', '15414827', '15447186', '15456488', '15456560', '15459547', '15460500', '15462579', '15468254', '15469273', '15476293', '15482255', '15484118', '15484216', '15486908', '15487938', '15489640', '15493624', '15495072', '15499581', '15502702', '15506131', '15514403', '15516212', '15525968', '15531858', '15532243', '15534578', '15537550', '15539805']\n"
     ]
    }
   ],
   "source": [
    "# Which members live in the zip code with the highest algorex_sdoh_composite_score?\n",
    "\n",
    "# Which zip code has the highest algorex_sdoh_composite_score?\n",
    "query = \"SELECT zcta FROM model_scores_by_zip ORDER BY algorex_sdoh_composite_score DESC LIMIT 1\"\n",
    "result = cursor.execute(query)\n",
    "print(\"Highest zip:\", result.fetchall()[0])\n",
    "# Zip code 95950 has the highest score, which is 8.77\n",
    "\n",
    "# This is the table from the query above renamed\n",
    "highest_ascore_table = \"(SELECT zcta FROM model_scores_by_zip ORDER BY algorex_sdoh_composite_score DESC LIMIT 1)\"\n",
    "query = \"SELECT Person_Id FROM std_member_info m JOIN model_scores_by_zip z ON m.Zip = z.zcta WHERE zcta IN \" + highest_ascore_table\n",
    "result = cursor.execute(query)\n",
    "\n",
    "# Getting it into a nice list\n",
    "members_raw = result.fetchall()\n",
    "members = []\n",
    "for tuple in members_raw[:]:\n",
    "    members.append(tuple[0])\n",
    "print(\"List of members:\", members)"
   ]
  },
  {
   "cell_type": "markdown",
   "metadata": {},
   "source": [
    "### Cleaning it up"
   ]
  },
  {
   "cell_type": "code",
   "execution_count": 32,
   "metadata": {},
   "outputs": [],
   "source": [
    "cursor.execute(\"DROP TABLE IF EXISTS roster_2_fixed\")\n",
    "cursor.close()\n",
    "connection.close()"
   ]
  },
  {
   "cell_type": "code",
   "execution_count": null,
   "metadata": {},
   "outputs": [],
   "source": []
  }
 ],
 "metadata": {
  "kernelspec": {
   "display_name": "Python 3",
   "language": "python",
   "name": "python3"
  },
  "language_info": {
   "codemirror_mode": {
    "name": "ipython",
    "version": 3
   },
   "file_extension": ".py",
   "mimetype": "text/x-python",
   "name": "python",
   "nbconvert_exporter": "python",
   "pygments_lexer": "ipython3",
   "version": "3.8.5"
  }
 },
 "nbformat": 4,
 "nbformat_minor": 4
}
